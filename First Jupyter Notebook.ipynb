{
 "cells": [
  {
   "cell_type": "code",
   "execution_count": 1,
   "id": "f6ce66c0",
   "metadata": {},
   "outputs": [
    {
     "name": "stdout",
     "output_type": "stream",
     "text": [
      "hello,word\n"
     ]
    }
   ],
   "source": [
    "print(\"hello,word\")"
   ]
  },
  {
   "cell_type": "code",
   "execution_count": 7,
   "id": "5a2f2409",
   "metadata": {},
   "outputs": [
    {
     "ename": "IndentationError",
     "evalue": "unindent does not match any outer indentation level (<tokenize>, line 67)",
     "output_type": "error",
     "traceback": [
      "\u001b[0;36m  File \u001b[0;32m\"<tokenize>\"\u001b[0;36m, line \u001b[0;32m67\u001b[0m\n\u001b[0;31m    except:\u001b[0m\n\u001b[0m    ^\u001b[0m\n\u001b[0;31mIndentationError\u001b[0m\u001b[0;31m:\u001b[0m unindent does not match any outer indentation level\n"
     ]
    }
   ],
   "source": [
    "\n",
    "\n",
    "#!/usr/bin/env python\n",
    "# -*- coding: utf-8 -*-\n",
    "# @Author  : Baimoc\n",
    "# @Email   : baimoc@163.com\n",
    "# @Time    : 2020/12/20 14:28\n",
    "# @File    : BaimoTools\n",
    "import os\n",
    "import time\n",
    "\n",
    "from Bio import SeqIO, SeqFeature\n",
    "\n",
    "\n",
    "class BaimoTools():\n",
    "    def __init__(self, gb_file, fasta_file):\n",
    "        self.complete_fasta = \"\"\n",
    "        self.fasta_file = fasta_file\n",
    "        self.gb_file = gb_file\n",
    "        self.feature = None\n",
    "        self.record = None\n",
    "\n",
    "    def format_val(self, object=None):\n",
    "    \n",
    "        key = \"\"\n",
    "        # 判断参数是否为字符\n",
    "        if isinstance(object, str):\n",
    "            obj = self.feature.qualifiers\n",
    "            key = object\n",
    "        else:\n",
    "            obj = object\n",
    "        # 为字符，提取 feature.qualifiers 对象关键字\n",
    "        if key != \"\" and not obj.get(key):\n",
    "            return \"\"\n",
    "        elif key == \"\":\n",
    "            val = obj\n",
    "        else:\n",
    "            val = obj[key]\n",
    "        # 转换为字符串\n",
    "        if not len(val):\n",
    "            val = \"\"\n",
    "        elif len(val) == 1:\n",
    "            val = val[0]\n",
    "        else:\n",
    "            if isinstance(val, SeqFeature.CompoundLocation) or isinstance(val, SeqFeature.FeatureLocation):\n",
    "                val = str(val)\n",
    "            else:\n",
    "                val = \" | \".join(val)\n",
    "        return val\n",
    "\n",
    "    def extract_cds(self, cds):\n",
    "\n",
    "        records = list(SeqIO.parse(self.gb_file, \"genbank\"))\n",
    "        for record in records:\n",
    "            print(f\"{record.id}\")\n",
    "            for feature in record.features:\n",
    "                # 提取 CDS 信息\n",
    "                try:\n",
    "                    if feature.type == \"CDS\":\n",
    "                        self.feature = feature\n",
    "                        self.record = record\n",
    "                        cds_gene = self.format_val('gene')\n",
    "                        if cds == \"\":\n",
    "                            self.complete_fasta += self.format_fasta()\n",
    "                        elif isinstance(cds, str) and cds_gene == cds:\n",
    "                            self.complete_fasta += self.format_fasta()\n",
    "                        elif isinstance(cds, list) and cds_gene in cds:\n",
    "                            self.complete_fasta += self.format_fasta()\n",
    "                 except:\n",
    "                    print(f\"{record.id}: No CDS features\")\n",
    "        self.write_file()\n",
    "\n",
    "    def write_file(self):\n",
    "       \n",
    "        with open(self.fasta_file, \"w\") as f_obj:\n",
    "            f_obj.writelines(self.complete_fasta)\n",
    "\n",
    "    def format_fasta(self, num=0):\n",
    "       \n",
    "        cds_gene = self.format_val('gene')\n",
    "        cds_location = self.format_val(self.feature.location)\n",
    "        cds_product = self.format_val('product')\n",
    "        cds_protein_id = self.format_val('protein_id')\n",
    "        cds_translation = self.format_val('translation')\n",
    "        complete_ana = f\">{self.record.id} | {cds_gene} | {cds_product} | {cds_protein_id} | {str(cds_location)}\\n\"\n",
    "        format_seq = \"\"\n",
    "        if num:\n",
    "            for i, char in enumerate(cds_translation):\n",
    "                format_seq += char\n",
    "                if (i + 1) % num == 0:\n",
    "                    format_seq += \"\\n\"\n",
    "        else:\n",
    "            format_seq = cds_translation\n",
    "        return complete_ana + format_seq + \"\\n\"\n",
    "\n",
    "\n",
    "\n"
   ]
  },
  {
   "cell_type": "code",
   "execution_count": null,
   "id": "ddcda38f",
   "metadata": {},
   "outputs": [],
   "source": []
  },
  {
   "cell_type": "code",
   "execution_count": 5,
   "id": "4e0debbc",
   "metadata": {},
   "outputs": [
    {
     "ename": "NameError",
     "evalue": "name 'BaimoTools' is not defined",
     "output_type": "error",
     "traceback": [
      "\u001b[0;31m---------------------------------------------------------------------------\u001b[0m",
      "\u001b[0;31mNameError\u001b[0m                                 Traceback (most recent call last)",
      "\u001b[0;32m/tmp/ipykernel_568/903841013.py\u001b[0m in \u001b[0;36m<module>\u001b[0;34m\u001b[0m\n\u001b[1;32m      1\u001b[0m \u001b[0mgb_file\u001b[0m \u001b[0;34m=\u001b[0m \u001b[0;34mf\"sequence.gb\"\u001b[0m\u001b[0;34m\u001b[0m\u001b[0;34m\u001b[0m\u001b[0m\n\u001b[1;32m      2\u001b[0m \u001b[0mfasta_file\u001b[0m \u001b[0;34m=\u001b[0m \u001b[0;34mf\"out/output_s.fasta\"\u001b[0m\u001b[0;34m\u001b[0m\u001b[0;34m\u001b[0m\u001b[0m\n\u001b[0;32m----> 3\u001b[0;31m \u001b[0mbaimoTools\u001b[0m \u001b[0;34m=\u001b[0m \u001b[0mBaimoTools\u001b[0m\u001b[0;34m(\u001b[0m\u001b[0mgb_file\u001b[0m\u001b[0;34m,\u001b[0m \u001b[0mfasta_file\u001b[0m\u001b[0;34m)\u001b[0m\u001b[0;34m\u001b[0m\u001b[0;34m\u001b[0m\u001b[0m\n\u001b[0m\u001b[1;32m      4\u001b[0m \u001b[0;31m# baimoTools.extract_cds('S')\u001b[0m\u001b[0;34m\u001b[0m\u001b[0;34m\u001b[0m\u001b[0m\n",
      "\u001b[0;31mNameError\u001b[0m: name 'BaimoTools' is not defined"
     ]
    }
   ],
   "source": [
    "gb_file = f\"sequence.gb\"\n",
    "fasta_file = f\"out/output_s.fasta\"\n",
    "baimoTools = BaimoTools(gb_file, fasta_file)\n",
    "# baimoTools.extract_cds('S')"
   ]
  },
  {
   "cell_type": "code",
   "execution_count": null,
   "id": "66143bad",
   "metadata": {},
   "outputs": [],
   "source": []
  }
 ],
 "metadata": {
  "kernelspec": {
   "display_name": "Python 3 (ipykernel)",
   "language": "python",
   "name": "python3"
  },
  "language_info": {
   "codemirror_mode": {
    "name": "ipython",
    "version": 3
   },
   "file_extension": ".py",
   "mimetype": "text/x-python",
   "name": "python",
   "nbconvert_exporter": "python",
   "pygments_lexer": "ipython3",
   "version": "3.9.7"
  }
 },
 "nbformat": 4,
 "nbformat_minor": 5
}
